{
  "nbformat": 4,
  "nbformat_minor": 0,
  "metadata": {
    "colab": {
      "provenance": [],
      "authorship_tag": "ABX9TyM0Vxuy6AWhpjHAw3J0EgEY",
      "include_colab_link": true
    },
    "kernelspec": {
      "name": "python3",
      "display_name": "Python 3"
    },
    "language_info": {
      "name": "python"
    }
  },
  "cells": [
    {
      "cell_type": "markdown",
      "metadata": {
        "id": "view-in-github",
        "colab_type": "text"
      },
      "source": [
        "<a href=\"https://colab.research.google.com/github/Swanimadhoop/python_lab/blob/main/Lab_cycle_2.ipynb\" target=\"_parent\"><img src=\"https://colab.research.google.com/assets/colab-badge.svg\" alt=\"Open In Colab\"/></a>"
      ]
    },
    {
      "cell_type": "markdown",
      "source": [
        "# **Question 1**"
      ],
      "metadata": {
        "id": "bnA3DyhiNhZ3"
      }
    },
    {
      "cell_type": "code",
      "source": [
        "def rabbit_pairs(n):\n",
        "  pairs = [1, 1]              \n",
        "  for i in range(2, n):\n",
        "    new_pairs = pairs[i-2]\n",
        "    pairs.append(pairs[i-1] + new_pairs)\n",
        "  return pairs\n",
        "\n",
        "n=int(input(\"Enter the number of months: \"))\n",
        "pairs = rabbit_pairs(n)\n",
        "\n",
        "print(\"Month\\tPairs\")\n",
        "for i in range(n):\n",
        "  print(f\"{i}\\t{pairs[i]}\")"
      ],
      "metadata": {
        "colab": {
          "base_uri": "https://localhost:8080/"
        },
        "id": "5kF-ouNnNgou",
        "outputId": "cc1046b8-0bb3-4bad-dea9-3789c9f2a11e"
      },
      "execution_count": null,
      "outputs": [
        {
          "output_type": "stream",
          "name": "stdout",
          "text": [
            "Enter the number of months: 10\n",
            "Month\tPairs\n",
            "0\t1\n",
            "1\t1\n",
            "2\t2\n",
            "3\t3\n",
            "4\t5\n",
            "5\t8\n",
            "6\t13\n",
            "7\t21\n",
            "8\t34\n",
            "9\t55\n"
          ]
        }
      ]
    },
    {
      "cell_type": "markdown",
      "source": [
        "# **Question 2**"
      ],
      "metadata": {
        "id": "ONxh1MqKNwfc"
      }
    },
    {
      "cell_type": "code",
      "source": [
        "def rotate_list(l,k):\n",
        "  n=len(l)\n",
        "  k=k % n\n",
        "  return l[-k:] +l[:-k]\n",
        "\n",
        "def convert_to_tuple(l):\n",
        "  return tuple([int(i) for i in l])\n",
        "\n",
        "def remove_duplicates(t):\n",
        "  l=list(set(t))\n",
        "  l.sort()\n",
        "  return l\n",
        "\n",
        "def apply_function(l):\n",
        "    return [x**2 - x for x in l]\n",
        "\n",
        "def merge_and_sort(l1,l2):\n",
        "  return sorted(l1)+sorted(l2)\n",
        "\n",
        "s=input(\"Enter a string of numbers seperated by space: \") \n",
        "\n",
        "lst=[int(i) for i in s.split()]\n",
        "\n",
        "k = int(input(\"Enter the number of positions to rotate: \"))\n",
        "rotated_lst = rotate_list(lst, k)\n",
        "print(\"Rotated list:\", rotated_lst)\n",
        "\n",
        "# Converting list to tuple\n",
        "tpl = convert_to_tuple(rotated_lst)\n",
        "print(\"Tuple:\", tpl)\n",
        "\n",
        "# Removing duplicates and converting to list\n",
        "lst_without_duplicates = remove_duplicates(tpl)\n",
        "print(\"List without duplicates:\", lst_without_duplicates)\n",
        "\n",
        "# Applying function on the list and creating a new list\n",
        "new_lst = apply_function(lst_without_duplicates)\n",
        "print(\"New list:\", new_lst)\n",
        "\n",
        "# Sorting and merging the lists\n",
        "lst1 = lst_without_duplicates\n",
        "lst2 = new_lst\n",
        "merged_lst = merge_and_sort(lst1, lst2)\n",
        "print(\"Merged and sorted list:\", merged_lst)\n",
        "\n"
      ],
      "metadata": {
        "colab": {
          "base_uri": "https://localhost:8080/"
        },
        "id": "U-uMLx3GN0ZT",
        "outputId": "480621f7-2dfd-418c-b984-d11fdb0bd287"
      },
      "execution_count": null,
      "outputs": [
        {
          "output_type": "stream",
          "name": "stdout",
          "text": [
            "Enter a string of numbers seperated by space: 5 8 6 4 9 7 5 1 7\n",
            "Enter the number of positions to rotate: 4\n",
            "Rotated list: [7, 5, 1, 7, 5, 8, 6, 4, 9]\n",
            "Tuple: (7, 5, 1, 7, 5, 8, 6, 4, 9)\n",
            "List without duplicates: [1, 4, 5, 6, 7, 8, 9]\n",
            "New list: [0, 12, 20, 30, 42, 56, 72]\n",
            "Merged and sorted list: [1, 4, 5, 6, 7, 8, 9, 0, 12, 20, 30, 42, 56, 72]\n"
          ]
        }
      ]
    },
    {
      "cell_type": "markdown",
      "source": [
        "# **Question 3**"
      ],
      "metadata": {
        "id": "Z-tQpAytvMo2"
      }
    },
    {
      "cell_type": "code",
      "source": [
        "import json\n",
        "\n",
        "# 1. Read the file as a text file and create a list of lines\n",
        "with open('iris.json', 'r') as file:\n",
        "    lines = file.readlines()\n",
        "\n",
        "# 2. Convert the list of lines to a list of dictionaries\n",
        "flowers = [json.loads(line) for line in lines]\n",
        "\n",
        "# 3. Print details of flowers with species setosa\n",
        "setosa_flowers = [flower for flower in flowers if flower['species'] == 'setosa']\n",
        "print(\"Details of flowers with species setosa:\")\n",
        "for flower in setosa_flowers:\n",
        "    print(flower)\n",
        "\n",
        "# 4. Print minimum petal area and maximum sepal area for each species\n",
        "species = set(flower['species'] for flower in flowers)\n",
        "for sp in species:\n",
        "    sp_flowers = [flower for flower in flowers if flower['species'] == sp]\n",
        "    min_petal_area = min(flower['petal_length'] * flower['petal_width'] for flower in sp_flowers)\n",
        "    max_sepal_area = max(flower['sepal_length'] * flower['sepal_width'] for flower in sp_flowers)\n",
        "    print(f\"{sp}: minimum petal area = {min_petal_area:.2f}, maximum sepal area = {max_sepal_area:.2f}\")\n",
        "\n",
        "# 5. Sort the list of dictionaries by total area of sepal and petal\n",
        "flowers.sort(key=lambda x: (x['sepal_length'] * x['sepal_width']) + (x['petal_length'] * x['petal_width']))\n",
        "print(\"Sorted list of flowers by total area of sepal and petal:\")\n",
        "for flower in flowers:\n",
        "    print(flower)\n"
      ],
      "metadata": {
        "colab": {
          "base_uri": "https://localhost:8080/",
          "height": 235
        },
        "id": "vUAr6RhQvRTf",
        "outputId": "2e56b08f-b36c-47d7-b329-cee1b67c5f5f"
      },
      "execution_count": null,
      "outputs": [
        {
          "output_type": "error",
          "ename": "FileNotFoundError",
          "evalue": "ignored",
          "traceback": [
            "\u001b[0;31m---------------------------------------------------------------------------\u001b[0m",
            "\u001b[0;31mFileNotFoundError\u001b[0m                         Traceback (most recent call last)",
            "\u001b[0;32m<ipython-input-3-6b00ac43cfef>\u001b[0m in \u001b[0;36m<cell line: 4>\u001b[0;34m()\u001b[0m\n\u001b[1;32m      2\u001b[0m \u001b[0;34m\u001b[0m\u001b[0m\n\u001b[1;32m      3\u001b[0m \u001b[0;31m# 1. Read the file as a text file and create a list of lines\u001b[0m\u001b[0;34m\u001b[0m\u001b[0;34m\u001b[0m\u001b[0m\n\u001b[0;32m----> 4\u001b[0;31m \u001b[0;32mwith\u001b[0m \u001b[0mopen\u001b[0m\u001b[0;34m(\u001b[0m\u001b[0;34m'iris.json'\u001b[0m\u001b[0;34m,\u001b[0m \u001b[0;34m'r'\u001b[0m\u001b[0;34m)\u001b[0m \u001b[0;32mas\u001b[0m \u001b[0mfile\u001b[0m\u001b[0;34m:\u001b[0m\u001b[0;34m\u001b[0m\u001b[0;34m\u001b[0m\u001b[0m\n\u001b[0m\u001b[1;32m      5\u001b[0m     \u001b[0mlines\u001b[0m \u001b[0;34m=\u001b[0m \u001b[0mfile\u001b[0m\u001b[0;34m.\u001b[0m\u001b[0mreadlines\u001b[0m\u001b[0;34m(\u001b[0m\u001b[0;34m)\u001b[0m\u001b[0;34m\u001b[0m\u001b[0;34m\u001b[0m\u001b[0m\n\u001b[1;32m      6\u001b[0m \u001b[0;34m\u001b[0m\u001b[0m\n",
            "\u001b[0;31mFileNotFoundError\u001b[0m: [Errno 2] No such file or directory: 'iris.json'"
          ]
        }
      ]
    },
    {
      "cell_type": "markdown",
      "source": [
        "# **Question 4**"
      ],
      "metadata": {
        "id": "Q3PQlBLfGMm0"
      }
    },
    {
      "cell_type": "code",
      "source": [
        "import random\n",
        "\n",
        "class Box:\n",
        "    def __init__(self, *args):\n",
        "        if len(args) == 1:\n",
        "            self.length = self.breadth = self.height = args[0]\n",
        "        elif len(args) == 2:\n",
        "            self.length, self.breadth = args\n",
        "            self.height = self.length\n",
        "        elif len(args) == 3:\n",
        "            self.length, self.breadth, self.height = args\n",
        "        self.area = 2 * (self.length * self.breadth + self.breadth * self.height + self.height * self.length)\n",
        "        self.volume = self.length * self.breadth * self.height\n",
        "\n",
        "# Creating a list of N boxes with random measurements\n",
        "N = 5\n",
        "boxes = [Box(random.randint(1, 10), random.randint(1, 10), random.randint(1, 10)) for i in range(N)]\n",
        "\n",
        "# Finding the box with maximum volume : area ratio\n",
        "max_ratio = 0\n",
        "max_box = None\n",
        "for box in boxes:\n",
        "    ratio = box.volume / box.area\n",
        "    if ratio > max_ratio:\n",
        "        max_ratio = ratio\n",
        "        max_box = box\n",
        "\n",
        "# Printing the details of the box with maximum volume : area ratio\n",
        "print(\"Box with maximum volume : area ratio\")\n",
        "print(\"Length:\", max_box.length)\n",
        "print(\"Breadth:\", max_box.breadth)\n",
        "print(\"Height:\", max_box.height)\n",
        "print(\"Area:\", max_box.area)\n",
        "print(\"Volume:\", max_box.volume)\n"
      ],
      "metadata": {
        "colab": {
          "base_uri": "https://localhost:8080/"
        },
        "id": "fPZiP7rtGfsU",
        "outputId": "57a564b0-2a32-4cec-eb05-6054124bc653"
      },
      "execution_count": null,
      "outputs": [
        {
          "output_type": "stream",
          "name": "stdout",
          "text": [
            "Box with maximum volume : area ratio\n",
            "Length: 5\n",
            "Breadth: 10\n",
            "Height: 10\n",
            "Area: 400\n",
            "Volume: 500\n"
          ]
        }
      ]
    },
    {
      "cell_type": "markdown",
      "source": [
        "# **Question 5**"
      ],
      "metadata": {
        "id": "X1jI9KoUG8pG"
      }
    },
    {
      "cell_type": "code",
      "source": [
        "import math\n",
        "\n",
        "class ThreeDShapes:\n",
        "    def __init__(self):\n",
        "        pass\n",
        "    \n",
        "    def printVolume(self):\n",
        "        pass\n",
        "    \n",
        "    def printArea(self):\n",
        "        pass\n",
        "    \n",
        "\n",
        "class Cylinder(ThreeDShapes):\n",
        "    def __init__(self, radius, height):\n",
        "        self.radius = radius\n",
        "        self.height = height\n",
        "        \n",
        "    def printVolume(self):\n",
        "        volume = math.pi * (self.radius ** 2) * self.height\n",
        "        print(\"The volume of the cylinder is: \", volume)\n",
        "        \n",
        "    def printArea(self):\n",
        "        area = 2 * math.pi * self.radius * (self.radius + self.height)\n",
        "        print(\"The area of the cylinder is: \", area)\n",
        "\n",
        "\n",
        "class Sphere(ThreeDShapes):\n",
        "    def __init__(self, radius):\n",
        "        self.radius = radius\n",
        "        \n",
        "    def printVolume(self):\n",
        "        volume = (4/3) * math.pi * (self.radius ** 3)\n",
        "        print(\"The volume of the sphere is: \", volume)\n",
        "        \n",
        "    def printArea(self):\n",
        "        area = 4 * math.pi * (self.radius ** 2)\n",
        "        print(\"The area of the sphere is: \", area)\n",
        "\n",
        "\n",
        "# create objects of Cylinder and Sphere classes\n",
        "cylinder = Cylinder(5, 10)\n",
        "sphere = Sphere(7)\n",
        "\n",
        "# print the volume and area of cylinder and sphere\n",
        "cylinder.printVolume()\n",
        "cylinder.printArea()\n",
        "\n",
        "sphere.printVolume()\n",
        "sphere.printArea()\n"
      ],
      "metadata": {
        "colab": {
          "base_uri": "https://localhost:8080/"
        },
        "id": "jOyTV_N8G87b",
        "outputId": "ba123d0d-9bb6-4e87-c325-830589870fd8"
      },
      "execution_count": null,
      "outputs": [
        {
          "output_type": "stream",
          "name": "stdout",
          "text": [
            "The volume of the cylinder is:  785.3981633974483\n",
            "The area of the cylinder is:  471.23889803846896\n",
            "The volume of the sphere is:  1436.7550402417319\n",
            "The area of the sphere is:  615.7521601035994\n"
          ]
        }
      ]
    }
  ]
}