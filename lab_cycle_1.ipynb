{
  "nbformat": 4,
  "nbformat_minor": 0,
  "metadata": {
    "colab": {
      "provenance": [],
      "authorship_tag": "ABX9TyNZY6MWDxuH3ZL0fxao7xDA",
      "include_colab_link": true
    },
    "kernelspec": {
      "name": "python3",
      "display_name": "Python 3"
    },
    "language_info": {
      "name": "python"
    }
  },
  "cells": [
    {
      "cell_type": "markdown",
      "metadata": {
        "id": "view-in-github",
        "colab_type": "text"
      },
      "source": [
        "<a href=\"https://colab.research.google.com/github/Swanimadhoop/python_lab/blob/main/lab_cycle_1.ipynb\" target=\"_parent\"><img src=\"https://colab.research.google.com/assets/colab-badge.svg\" alt=\"Open In Colab\"/></a>"
      ]
    },
    {
      "cell_type": "markdown",
      "source": [
        "**QUESTION 1**"
      ],
      "metadata": {
        "id": "zaqhdRnkrO0D"
      }
    },
    {
      "cell_type": "code",
      "source": [
        "def sum_of_digits(n):\n",
        "  sum = 0\n",
        "  while n > 0:\n",
        "    r = n % 10\n",
        "    sum = sum + r\n",
        "    n = n // 10\n",
        "  return sum\n"
      ],
      "metadata": {
        "id": "BEIIKtdXrQtn"
      },
      "execution_count": 5,
      "outputs": []
    },
    {
      "cell_type": "code",
      "source": [
        "def reverse(n):\n",
        "  rev = 0\n",
        "  while n > 0:\n",
        "    r = n % 10\n",
        "    rev = rev * 10 + r\n",
        "    n = n // 10\n",
        "  return rev\n"
      ],
      "metadata": {
        "id": "d2F51u1V4Spf"
      },
      "execution_count": 6,
      "outputs": []
    },
    {
      "cell_type": "code",
      "source": [
        "def product(n):\n",
        "  d = 0\n",
        "  count = 0\n",
        "  even_no = 1\n",
        "  odd_no = 1\n",
        "  while n > 0:\n",
        "    r = n % 10 \n",
        "    n = n // 10\n",
        "    count += 1\n",
        "    if count % 2 == 0:\n",
        "      odd_no = odd_no * r\n",
        "    else:\n",
        "      even_no = even_no * r\n",
        "      d = even_no + odd_no\n",
        "    return d\n"
      ],
      "metadata": {
        "id": "SpMyCrhc4-LW"
      },
      "execution_count": 7,
      "outputs": []
    },
    {
      "cell_type": "code",
      "source": [
        "n = int(input(\"Enter a four digit number: \"))\n",
        "sum = sum_of_digits(n)\n",
        "print(\"The sum of digits= \",sum)\n",
        "rev = reverse(n)\n",
        "print(\"The reverse of the digits= \",rev)\n",
        "d = product(n)\n",
        "print(\"Difference of the product of digits= \",d)\n"
      ],
      "metadata": {
        "colab": {
          "base_uri": "https://localhost:8080/"
        },
        "id": "fAjksnCzOFpG",
        "outputId": "fe2bd780-90d7-40f7-c1fe-7b85bde78390"
      },
      "execution_count": 8,
      "outputs": [
        {
          "output_type": "stream",
          "name": "stdout",
          "text": [
            "Enter a four digit number: 1234\n",
            "The sum of digits=  10\n",
            "The reverse of the digits=  4321\n",
            "Difference of the product of digits=  5\n"
          ]
        }
      ]
    },
    {
      "cell_type": "markdown",
      "source": [
        "QUESTION **2**"
      ],
      "metadata": {
        "id": "EpEvuYoeBtvY"
      }
    },
    {
      "cell_type": "code",
      "source": [
        "import math\n",
        "def sides(): \n",
        "  x=int(input(\"enter first side: \"))\n",
        "  y=int(input(\"enter second side: \"))\n",
        "  z=int(input(\"enter third side: \"))\n",
        "  return x,y,z\n",
        "\n",
        "def find_area(x,y,z): \n",
        "  s=(x+y+z)/2\n",
        "  A=math.sqrt(s*(s-x)*(s-y)*(s-z))\n",
        "  return A\n"
      ],
      "metadata": {
        "id": "SvQyX7JQBuAG"
      },
      "execution_count": 22,
      "outputs": []
    },
    {
      "cell_type": "code",
      "source": [
        "print(\"TRIANGLE 1\")\n",
        "x1,y1,z1=sides()\n",
        "print(\"TRIANGLE 2\")\n",
        "x2,y2,z2= sides()\n",
        "a1=find_area(x1,y1,z1)\n",
        "print(\"The area of triangle1 is \",a1)\n",
        "a2=find_area(x2,y2,z2)\n",
        "print(\"The area of triangle2 is \",a2)\n",
        "atotal= a1+a2\n",
        "p1=a1/atotal*100\n",
        "print(\"Percentage contributed by triangle 1 is \",p1)\n",
        "p2=a2/atotal*100\n",
        "print(\"Percentage contributed by triangle 2 is \",p2)"
      ],
      "metadata": {
        "colab": {
          "base_uri": "https://localhost:8080/"
        },
        "id": "sqhPE_KzQrtu",
        "outputId": "6e489533-306b-41da-b42c-f03c72d87e16"
      },
      "execution_count": 23,
      "outputs": [
        {
          "output_type": "stream",
          "name": "stdout",
          "text": [
            "TRIANGLE 1\n",
            "enter first side: 4\n",
            "enter second side: 4\n",
            "enter third side: 5\n",
            "TRIANGLE 2\n",
            "enter first side: 2\n",
            "enter second side: 3\n",
            "enter third side: 4\n",
            "The area of triangle1 is  7.806247497997997\n",
            "The area of triangle2 is  2.9047375096555625\n",
            "Percentage contributed by triangle 1 is  72.88076206268633\n",
            "Percentage contributed by triangle 2 is  27.119237937313656\n"
          ]
        }
      ]
    },
    {
      "cell_type": "markdown",
      "source": [
        "**QUESTION 3**"
      ],
      "metadata": {
        "id": "hXjlzemNVNpv"
      }
    },
    {
      "cell_type": "code",
      "source": [
        "def gross_salary(bp,da,hra,ma):\n",
        "  gs=bp+da+hra+ma\n",
        "  return(gs)\n",
        "\n",
        "def deduction(pt,pf,it):\n",
        "  d=pt+pf+it\n",
        "  return(d)\n",
        "\n",
        "def net_salary(gs,d):\n",
        "  ns=gs-d\n",
        "  return(ns)\n",
        "name=(input(\"Enter employee's name: \"))\n",
        "code=int(input(\"Enter employee's code: \"))\n",
        "bp=int(input(\"Enter employee's basic pay: \"))\n",
        "\n",
        "if bp<10000:\n",
        "  da=(5/100)*bp\n",
        "  hra=(2.5/100)*bp\n",
        "  ma=20\n",
        "  pt=20\n",
        "  pf=(8/100)*bp\n",
        "  it=0\n",
        "  gs = gross_salary(bp,da,hra,ma)\n",
        "  d = deduction(pt,pf,it)\n",
        "  ns = net_salary(gs,d)\n",
        "elif bp<10000 or bp>30000:\n",
        "  da=(7.5/100)*bp\n",
        "  hra=(5/100)*bp\n",
        "  ma=2500\n",
        "  pt=60\n",
        "  pf=(8/100)*bp\n",
        "  it=0\n",
        "  gs = gross_salary(bp,da,hra,ma)\n",
        "  d = deduction(pt,pf,it)\n",
        "  ns = net_salary(gs,d)\n",
        "elif bp<30000 or bp>50000:\n",
        "  da=(11/100)*bp\n",
        "  hra=(7.5/100)*bp\n",
        "  ma=5000\n",
        "  pt=60\n",
        "  pf=(11/100)*bp\n",
        "  it=(11/100)*bp\n",
        "  gs = gross_salary(bp,da,hra,ma)\n",
        "  d = deduction(pt,pf,it)\n",
        "  ns = net_salary(gs,d)\n",
        "else:\n",
        "  da=(25/100)*bp\n",
        "  hra=(11/100)*bp\n",
        "  ma=7000\n",
        "  pt=80\n",
        "  pf=(12/100)*bp\n",
        "  it=(20/100)*bp\n",
        "  gs = gross_salary(bp,da,hra,ma)\n",
        "  d = deduction(pt,pf,it)\n",
        "  ns = net_salary(gs,d)\n",
        "\n",
        "\n",
        "print(\"********PAYMENT SLIP*********\")\n",
        "print(\"employee's name           :\",name)\n",
        "print(\"employee's code           :\",code)\n",
        "print(\"employee's basic pay      :\",bp)\n",
        "print(\"employee's DA             :\",da)\n",
        "print(\"employee's HRA            :\",hra)\n",
        "print(\"employee's MA             :\",ma)\n",
        "print(\"employee's PT             :\",pt)\n",
        "print(\"employee's PF             :\",pf)\n",
        "print(\"employee's IT             :\",it)\n",
        "print(\"gross salary              :\",gs)\n",
        "print(\"deduction                 :\",d)\n",
        "print(\"net salary                :\",ns)\n",
        "    \n"
      ],
      "metadata": {
        "id": "URsB-xH3Ylbv",
        "colab": {
          "base_uri": "https://localhost:8080/"
        },
        "outputId": "8b9f6b1c-dd64-4062-ed9f-990e9ef017f4"
      },
      "execution_count": 25,
      "outputs": [
        {
          "output_type": "stream",
          "name": "stdout",
          "text": [
            "Enter employee's name: nia\n",
            "Enter employee's code: 02\n",
            "Enter employee's basic pay: 700000\n",
            "********PAYMENT SLIP*********\n",
            "employee's name           : nia\n",
            "employee's code           : 2\n",
            "employee's basic pay      : 700000\n",
            "employee's DA             : 52500.0\n",
            "employee's HRA            : 35000.0\n",
            "employee's MA             : 2500\n",
            "employee's PT             : 60\n",
            "employee's PF             : 56000.0\n",
            "employee's IT             : 0\n",
            "gross salary              : 790000.0\n",
            "deduction                 : 56060.0\n",
            "net salary                : 733940.0\n"
          ]
        }
      ]
    },
    {
      "cell_type": "markdown",
      "source": [
        "**QUESTION 4**"
      ],
      "metadata": {
        "id": "0xbjSu6hBC8X"
      }
    },
    {
      "cell_type": "code",
      "source": [
        " def happy_number(n):\n",
        "  for i in range(100):\n",
        "    s=0\n",
        "    while n>0:\n",
        "      r=n%10\n",
        "      s=s+r*r\n",
        "      n=n//10\n",
        "    if s==1:\n",
        "      result=1\n",
        "      break\n",
        "    else:\n",
        "      result=0\n",
        "      n=s\n",
        "  return result\n",
        "\n",
        "def generate_happy_number(i,u):\n",
        "  for i in range(1,u+1):\n",
        "    n=happy_number(i)\n",
        "    if n==1:\n",
        "      print(i)\n",
        "\n",
        "def n_happy_number(n):\n",
        "  i=0\n",
        "  while n>0:\n",
        "    s=happy_number(i)\n",
        "    if s==1:\n",
        "      print(i,\" \")\n",
        "      n=n-1\n",
        "    i=i+1\n",
        "\n",
        "num=int(input(\"enter the number: \"))\n",
        "result=happy_number(num)\n",
        "if result==1:\n",
        "  print(\"the number is a happy number.\")\n",
        "else:\n",
        "  print(\"the number is a sad number.\")\n",
        "\n",
        "a=int(input(\"enter the lower limit: \"))\n",
        "b=int(input(\"enter the upper limit:  \"))\n",
        "generate_happy_number(a,b)\n",
        "\n",
        "x=int(input(\"enter the number of digits: \"))\n",
        "n_happy_number(x)\n",
        "    \n",
        "     "
      ],
      "metadata": {
        "id": "WRb3n2nxBHas",
        "colab": {
          "base_uri": "https://localhost:8080/"
        },
        "outputId": "90c64221-9f62-4800-b47b-c622d7224391"
      },
      "execution_count": 29,
      "outputs": [
        {
          "output_type": "stream",
          "name": "stdout",
          "text": [
            "enter the number: 103\n",
            "the number is a happy number.\n",
            "enter the lower limit: 3\n",
            "enter the upper limit:  33\n",
            "1\n",
            "7\n",
            "10\n",
            "13\n",
            "19\n",
            "23\n",
            "28\n",
            "31\n",
            "32\n",
            "enter the number of digits: 44\n",
            "1  \n",
            "7  \n",
            "10  \n",
            "13  \n",
            "19  \n",
            "23  \n",
            "28  \n",
            "31  \n",
            "32  \n",
            "44  \n",
            "49  \n",
            "68  \n",
            "70  \n",
            "79  \n",
            "82  \n",
            "86  \n",
            "91  \n",
            "94  \n",
            "97  \n",
            "100  \n",
            "103  \n",
            "109  \n",
            "129  \n",
            "130  \n",
            "133  \n",
            "139  \n",
            "167  \n",
            "176  \n",
            "188  \n",
            "190  \n",
            "192  \n",
            "193  \n",
            "203  \n",
            "208  \n",
            "219  \n",
            "226  \n",
            "230  \n",
            "236  \n",
            "239  \n",
            "262  \n",
            "263  \n",
            "280  \n",
            "291  \n",
            "293  \n"
          ]
        }
      ]
    },
    {
      "cell_type": "markdown",
      "source": [
        "**Question 5**"
      ],
      "metadata": {
        "id": "exEoA2vlSBND"
      }
    },
    {
      "cell_type": "code",
      "source": [
        "def all_substrings(s):\n",
        "  substrings =[]\n",
        "  for i in range(len(s)):\n",
        "    for j in range(i+1, len(s)+1):\n",
        "      substrings.append(s[i:j])\n",
        "  return substrings\n",
        "\n",
        "def substrings_of_length_k(s,k):\n",
        "  substrings = []\n",
        "  for i in range(len(s)-k+1):\n",
        "    substrings.append(s[i:i+k])\n",
        "  return substrings\n",
        "\n",
        "def substrings_of_length_k_with_n_distinct_characters(s, k, n):\n",
        "    substrings = []\n",
        "    for i in range(len(s)-k+1):\n",
        "        substring = s[i:i+k]\n",
        "        if len(set(substring)) == n:\n",
        "            substrings.append(substring)\n",
        "    return substrings\n",
        "\n",
        "def substrings_with_n_distinct_characters(s, n):\n",
        "    substrings = []\n",
        "    for i in range(len(s)):\n",
        "        for j in range(i+1, len(s)+1):\n",
        "            substring = s[i:j]\n",
        "            if len(set(substring)) == n:\n",
        "              substrings.append(substring)\n",
        "    return substrings\n",
        "\n",
        "def palindrome_substrings(s):\n",
        "  substrings=[]\n",
        "  for i in range(len(s)):\n",
        "    for j in range(i+1, len(s)+1):\n",
        "      substring=s[i:j]\n",
        "      if substring == substring[::-1]:\n",
        "        substrings.append(substring)\n",
        "  return substrings\n",
        "\n",
        "  \n"
      ],
      "metadata": {
        "id": "bglxCO8PSDFK"
      },
      "execution_count": 50,
      "outputs": []
    },
    {
      "cell_type": "code",
      "source": [
        "s = input(\"Enter the string: \")\n",
        "print(\"\\nAll Substrings:\")\n",
        "substrings = all_substrings(s)\n",
        "for substring in substrings:\n",
        "    print(substring)\n",
        "\n",
        "k = int(input(\"\\nEnter length required: \"))\n",
        "print(f\"\\nSubstrings of length {k}:\")\n",
        "substrings_k = substrings_of_length_k(s, k)\n",
        "for substring in substrings_k:\n",
        "    print(substring)\n",
        "\n",
        "k = int(input(\"\\nEnter the length of substrings required: \"))\n",
        "n = int(input(\"Enter the number of distinct characters required: \"))\n",
        "print(f\"\\nSubstrings of length {k} with {n} distinct characters:\")\n",
        "substrings_k_n = substrings_of_length_k_with_n_distinct_characters(s, k, n)\n",
        "for substring in substrings_k_n:\n",
        "    print(substring)\n",
        "\n",
        "n = int(input(\"\\nEnter the max number of distinct characters in the substrings: \"))\n",
        "print(f\"\\nSubstrings with {n} distinct characters:\")\n",
        "substrings = substrings_with_n_distinct_characters(s, n)\n",
        "for substring in substrings:\n",
        "    print(substring)\n",
        "\n",
        "print(\"\\nThe palindrome substrings are:\")\n",
        "palindrome_substrings = palindrome_substrings(s)\n",
        "for substring in palindrome_substrings:\n",
        "    print(substring)"
      ],
      "metadata": {
        "colab": {
          "base_uri": "https://localhost:8080/"
        },
        "id": "DGktGZxEph0u",
        "outputId": "4c877554-8b6d-4327-838d-7f03b9f459a7"
      },
      "execution_count": 51,
      "outputs": [
        {
          "output_type": "stream",
          "name": "stdout",
          "text": [
            "Enter the string: hellooo\n",
            "\n",
            "All Substrings:\n",
            "h\n",
            "he\n",
            "hel\n",
            "hell\n",
            "hello\n",
            "helloo\n",
            "hellooo\n",
            "e\n",
            "el\n",
            "ell\n",
            "ello\n",
            "elloo\n",
            "ellooo\n",
            "l\n",
            "ll\n",
            "llo\n",
            "lloo\n",
            "llooo\n",
            "l\n",
            "lo\n",
            "loo\n",
            "looo\n",
            "o\n",
            "oo\n",
            "ooo\n",
            "o\n",
            "oo\n",
            "o\n",
            "\n",
            "Enter length required: 3\n",
            "\n",
            "Substrings of length 3:\n",
            "hel\n",
            "ell\n",
            "llo\n",
            "loo\n",
            "ooo\n",
            "\n",
            "Enter the length of substrings required: 3\n",
            "Enter the number of distinct characters required: 2\n",
            "\n",
            "Substrings of length 3 with 2 distinct characters:\n",
            "ell\n",
            "llo\n",
            "loo\n",
            "\n",
            "Enter the max number of distinct characters in the substrings: 4\n",
            "\n",
            "Substrings with 4 distinct characters:\n",
            "hello\n",
            "helloo\n",
            "hellooo\n",
            "\n",
            "The palindrome substrings are:\n",
            "h\n",
            "e\n",
            "l\n",
            "ll\n",
            "l\n",
            "o\n",
            "oo\n",
            "ooo\n",
            "o\n",
            "oo\n",
            "o\n"
          ]
        }
      ]
    }
  ]
}